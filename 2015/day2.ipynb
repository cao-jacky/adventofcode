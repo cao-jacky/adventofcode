{
 "cells": [
  {
   "cell_type": "code",
   "execution_count": 1,
   "metadata": {},
   "outputs": [],
   "source": [
    "import numpy as np"
   ]
  },
  {
   "cell_type": "code",
   "execution_count": 4,
   "metadata": {},
   "outputs": [],
   "source": [
    "day2_sizes = [] \n",
    "day2 = \"inputs/day2.txt\"\n",
    "with open(day2) as file:\n",
    "    day2_sizes = file.readlines()"
   ]
  },
  {
   "cell_type": "code",
   "execution_count": 47,
   "metadata": {},
   "outputs": [],
   "source": [
    "# part 1\n",
    "# analyse for each dimension\n",
    "\n",
    "def calculator(dimension_string):\n",
    "    dimension_string = dimension_string.strip()\n",
    "    ds_split = dimension_string.split(\"x\")\n",
    "    \n",
    "    l, w, h = int(ds_split[0]), int(ds_split[1]), int(ds_split[2])\n",
    "    dimensions = np.array([l,w,h])\n",
    "    box_sa = (2*l*w) + (2*w*h) + (2*h*l)\n",
    "    \n",
    "    dimensions_sort = np.sort(dimensions)\n",
    "    ds_small1 = dimensions_sort[0]\n",
    "    ds_small2 = dimensions_sort[1]\n",
    "    \n",
    "    small_area = ds_small1 * ds_small2\n",
    "\n",
    "    total_area = box_sa + small_area\n",
    "    return total_area"
   ]
  },
  {
   "cell_type": "code",
   "execution_count": 49,
   "metadata": {},
   "outputs": [
    {
     "name": "stdout",
     "output_type": "stream",
     "text": [
      "1588178\n"
     ]
    }
   ],
   "source": [
    "total_paper = 0\n",
    "for i in range(len(day2_sizes)):\n",
    "    curr_size = day2_sizes[i]\n",
    "    total_paper = total_paper + calculator(curr_size)\n",
    "    \n",
    "print(total_paper)"
   ]
  },
  {
   "cell_type": "code",
   "execution_count": 54,
   "metadata": {},
   "outputs": [],
   "source": [
    "# part 2\n",
    "\n",
    "def calculator2(dimension_string):\n",
    "    dimension_string = dimension_string.strip()\n",
    "    ds_split = dimension_string.split(\"x\")\n",
    "    \n",
    "    l, w, h = int(ds_split[0]), int(ds_split[1]), int(ds_split[2])\n",
    "    dimensions = np.array([l,w,h])\n",
    "    \n",
    "    dimensions_sort = np.sort(dimensions)\n",
    "    ds_small1 = dimensions_sort[0]\n",
    "    ds_small2 = dimensions_sort[1]\n",
    "        \n",
    "    ribbon_present = ds_small1 + ds_small1 + ds_small2 + ds_small2\n",
    "    ribbon_bow = l*w*h\n",
    "\n",
    "    total_length = ribbon_present+ribbon_bow\n",
    "    return total_length"
   ]
  },
  {
   "cell_type": "code",
   "execution_count": 55,
   "metadata": {},
   "outputs": [
    {
     "name": "stdout",
     "output_type": "stream",
     "text": [
      "3783758\n"
     ]
    }
   ],
   "source": [
    "total_ribbon = 0\n",
    "for i in range(len(day2_sizes)):\n",
    "    curr_size = day2_sizes[i]\n",
    "    total_ribbon = total_ribbon + calculator2(curr_size)\n",
    "    \n",
    "print(total_ribbon)"
   ]
  },
  {
   "cell_type": "code",
   "execution_count": null,
   "metadata": {},
   "outputs": [],
   "source": []
  }
 ],
 "metadata": {
  "kernelspec": {
   "display_name": "Python 3",
   "language": "python",
   "name": "python3"
  },
  "language_info": {
   "codemirror_mode": {
    "name": "ipython",
    "version": 3
   },
   "file_extension": ".py",
   "mimetype": "text/x-python",
   "name": "python",
   "nbconvert_exporter": "python",
   "pygments_lexer": "ipython3",
   "version": "3.8.3"
  }
 },
 "nbformat": 4,
 "nbformat_minor": 4
}
