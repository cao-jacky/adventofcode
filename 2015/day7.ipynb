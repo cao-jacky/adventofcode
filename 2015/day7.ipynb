{
 "cells": [
  {
   "cell_type": "markdown",
   "id": "e8a9bd9e-185d-4133-b30d-a311543d5227",
   "metadata": {},
   "source": [
    "Bitwise logic gates are new to me, perhaps I do want to try and emulate them to understand how to get from the sample input to the sample output, i.e., from this,\n",
    "\n",
    "```\n",
    "123 -> x\n",
    "456 -> y\n",
    "x AND y -> d\n",
    "x OR y -> e\n",
    "x LSHIFT 2 -> f\n",
    "y RSHIFT 2 -> g\n",
    "NOT x -> h\n",
    "NOT y -> i\n",
    "```\n",
    "\n",
    ", to this,\n",
    "\n",
    "```\n",
    "d: 72\n",
    "e: 507\n",
    "f: 492\n",
    "g: 114\n",
    "h: 65412\n",
    "i: 65079\n",
    "x: 123\n",
    "y: 456\n",
    "```\n",
    "\n",
    "1. I need a way to parse the input and convert into the BitewiseOperator functions which are part of Python"
   ]
  },
  {
   "cell_type": "code",
   "execution_count": 85,
   "id": "088717af-5567-425f-8c0f-2011c5a05a18",
   "metadata": {},
   "outputs": [],
   "source": [
    "import operator"
   ]
  },
  {
   "cell_type": "code",
   "execution_count": 86,
   "id": "f8186fbd-bbbc-4ef0-8b50-0aec146e1dd9",
   "metadata": {},
   "outputs": [],
   "source": [
    "day7_example_circuit = [] \n",
    "day7_example_inputs = \"inputs/day7_example.txt\"\n",
    "\n",
    "total_no_instructions = 0\n",
    "with open(day7_example_inputs) as file:\n",
    "    day7_example_circuit = file.readlines()\n",
    "    total_no_instructions = len(day7_example_inputs)"
   ]
  },
  {
   "cell_type": "code",
   "execution_count": 91,
   "id": "73cf9e5c-cb10-4621-8e96-fb91a8db0b4e",
   "metadata": {},
   "outputs": [],
   "source": [
    "bitwise_operators = {\n",
    "    \"AND\": operator.and_,\n",
    "    \"OR\": operator.or_,\n",
    "    \"LSHIFT\": operator.lshift,\n",
    "    \"RSHIFT\": operator.rshift,\n",
    "    \"NOT\": operator.inv\n",
    "}"
   ]
  },
  {
   "cell_type": "code",
   "execution_count": 98,
   "id": "91ddae84-2498-41d4-8e33-a72812a77474",
   "metadata": {},
   "outputs": [
    {
     "name": "stdout",
     "output_type": "stream",
     "text": [
      "123 -> x\n",
      "\n",
      "456 -> y\n",
      "\n",
      "x AND y -> d\n",
      "\n",
      "x OR y -> e\n",
      "\n",
      "x LSHIFT 2 -> f\n",
      "\n",
      "y RSHIFT 2 -> g\n",
      "\n",
      "NOT x -> h\n",
      "\n",
      "NOT y -> i\n",
      "{'x': '123 ', 'y': '456 ', 'd': 72, 'e': 507, 'f': 492, 'g': 114, 'h': 65412, 'i': 65079}\n"
     ]
    }
   ],
   "source": [
    "wire_values = {}\n",
    "\n",
    "for instruction in day7_example_circuit:\n",
    "    instruct_split = instruction.split(\"->\")\n",
    "    wire = instruct_split[-1].strip()\n",
    "    print(instruction)\n",
    "    if any(op in instruct_split[0] for op in bitwise_operators.keys()):\n",
    "        instruct = instruct_split[0].strip().split(\" \")\n",
    "\n",
    "        if \"NOT\" in instruct:\n",
    "            operator_instruct = bitwise_operators[instruct[0]]\n",
    "            wire1 = wire_values[instruct[1]]\n",
    "            wire_values[wire] = operator_instruct(int(wire1)) + 65535 + 1 # Can only be a number between 0 and 65535\n",
    "\n",
    "        else:\n",
    "            wire1 = wire_values[instruct[0]]\n",
    "            try:\n",
    "                wire2 = wire_values[instruct[-1]]\n",
    "            except:\n",
    "                wire2 = instruct[-1]\n",
    "            wire3 = wire\n",
    "            operator_instruct = bitwise_operators[instruct[1]]            \n",
    "            wire_values[wire] = operator_instruct(int(wire1), int(wire2))\n",
    "            \n",
    "            \n",
    "    else:\n",
    "        # If no operator, assume straight assignment\n",
    "        wire_values[wire] = instruct_split[0]\n",
    "\n",
    "print(wire_values)"
   ]
  },
  {
   "cell_type": "raw",
   "id": "41afff87-5eac-4a88-ab78-54f7033e2dac",
   "metadata": {},
   "source": [
    "d: 72\n",
    "e: 507\n",
    "f: 492\n",
    "g: 114\n",
    "h: 65412\n",
    "i: 65079\n",
    "x: 123\n",
    "y: 456"
   ]
  },
  {
   "cell_type": "code",
   "execution_count": null,
   "id": "b7da545c-2859-44c7-9898-d82c0f8b541e",
   "metadata": {},
   "outputs": [],
   "source": []
  }
 ],
 "metadata": {
  "kernelspec": {
   "display_name": "Python 3 (ipykernel)",
   "language": "python",
   "name": "python3"
  },
  "language_info": {
   "codemirror_mode": {
    "name": "ipython",
    "version": 3
   },
   "file_extension": ".py",
   "mimetype": "text/x-python",
   "name": "python",
   "nbconvert_exporter": "python",
   "pygments_lexer": "ipython3",
   "version": "3.13.2"
  }
 },
 "nbformat": 4,
 "nbformat_minor": 5
}
