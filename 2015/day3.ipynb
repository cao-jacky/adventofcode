{
 "cells": [
  {
   "cell_type": "code",
   "execution_count": 107,
   "metadata": {},
   "outputs": [],
   "source": [
    "import numpy as np\n",
    "import matplotlib.pyplot as plt"
   ]
  },
  {
   "cell_type": "code",
   "execution_count": 67,
   "metadata": {},
   "outputs": [],
   "source": [
    "day3_instructions = [] \n",
    "day3_inputs = \"inputs/day3.txt\"\n",
    "with open(day3_inputs) as file:\n",
    "    day3_instructions = file.readlines()"
   ]
  },
  {
   "cell_type": "code",
   "execution_count": 125,
   "metadata": {},
   "outputs": [
    {
     "name": "stdout",
     "output_type": "stream",
     "text": [
      "[ 41 -95]\n",
      "-26 -127 55 17\n",
      "at least one present 2589\n"
     ]
    }
   ],
   "source": [
    "# part 1\n",
    "d3i_split = list(day3_instructions[0])\n",
    "instructions_dict = {\n",
    "    \">\": 1,\n",
    "    \"<\": -1,\n",
    "    \"^\": 2,\n",
    "    \"v\": -2\n",
    "}\n",
    "\n",
    "curr_x, curr_y = (0,0)\n",
    "curr_coord = np.array([curr_x, curr_y])\n",
    "\n",
    "visited_coords = []\n",
    "\n",
    "for i in range(len(d3i_split)):\n",
    "    curr_instruction = d3i_split[i] \n",
    "    ci_dict = instructions_dict[curr_instruction]\n",
    "    ci_int = int(ci_dict)\n",
    "    \n",
    "    ci_axis = np.abs(ci_int) - 1 # taking the absolute value will tell what axis the instruction is\n",
    "    \n",
    "    if ci_int < 0:\n",
    "        ci = -1\n",
    "    else:\n",
    "        ci = 1\n",
    "    \n",
    "    curr_coord[ci_axis] = curr_coord[ci_axis] + ci\n",
    "    visited_coords.append([curr_coord[0], curr_coord[1]])\n",
    "    \n",
    "#     print(curr_instruction, ci_dict, ci_int, ci_axis)\n",
    "\n",
    "print(curr_coord) # the final coordinate\n",
    "visited_coords_array = np.asarray(visited_coords)\n",
    "\n",
    "# find min and max coords then make a grid \n",
    "coord_minx = np.min(visited_coords_array[:,0])\n",
    "coord_maxx = np.max(visited_coords_array[:,0])\n",
    "\n",
    "coord_miny = np.min(visited_coords_array[:,1])\n",
    "coord_maxy = np.max(visited_coords_array[:,1])\n",
    "\n",
    "print(coord_minx, coord_miny, coord_maxx, coord_maxy)\n",
    "total_lengthx = np.abs(coord_minx) + np.abs(coord_maxx)\n",
    "total_lengthy = np.abs(coord_miny) + np.abs(coord_maxy)\n",
    "\n",
    "grid_array = np.zeros([total_lengthx+1, total_lengthy+1])\n",
    "\n",
    "# go through the coordinate steps\n",
    "# i need to shift the grid so that it makes sense \n",
    "# originally 0,0 is the center, index wise: 0,0 is the top left of the array which will be minx, maxy\n",
    "# therefore shift by -abs(minx), and + abs(maxy)\n",
    "for i in range(len(visited_coords_array)):\n",
    "    vc_curr = visited_coords_array[i]\n",
    "    \n",
    "    vc_curr_x = vc_curr[0]\n",
    "    vc_curr_y = vc_curr[1]\n",
    "    \n",
    "    if vc_curr_x >= 0:\n",
    "        grid_index_x = vc_curr_x + np.abs(coord_minx)\n",
    "    if vc_curr_x < 0:\n",
    "        grid_index_x = np.abs(np.abs(vc_curr_x) + coord_minx)\n",
    "    if vc_curr_y >= 0:\n",
    "        grid_index_y = coord_maxy - vc_curr_y\n",
    "    if vc_curr_y < 0:\n",
    "        grid_index_y = coord_maxy + np.abs(coord_miny + np.abs(vc_curr_y))\n",
    "    \n",
    "    grid_array[grid_index_x][grid_index_y] = grid_array[grid_index_x][grid_index_y] + 1\n",
    "    \n",
    "# vca_unique = np.unique(grid_array, return_index=True)\n",
    "ga_flat = grid_array.flatten()\n",
    "at_least_one_present = ga_flat[ga_flat>0]\n",
    "alop_len = len(at_least_one_present)\n",
    "print(\"at least one present\", alop_len)"
   ]
  },
  {
   "cell_type": "code",
   "execution_count": 89,
   "metadata": {},
   "outputs": [
    {
     "name": "stdout",
     "output_type": "stream",
     "text": [
      "[[0 0 0 ... 0 0 0]\n",
      " [0 0 0 ... 0 0 0]\n",
      " [0 0 0 ... 0 0 0]\n",
      " ...\n",
      " [0 0 0 ... 0 0 0]\n",
      " [0 0 0 ... 0 0 0]\n",
      " [0 0 0 ... 0 0 0]]\n"
     ]
    }
   ],
   "source": [
    "# using meshgrid\n",
    "x = np.arange(coord_minx, coord_maxx)\n",
    "y = np.arange(coord_miny, coord_maxy)\n",
    "xv, yv = np.meshgrid(x, y)\n",
    "\n",
    "z = np.zeros_like(xv)\n",
    "print(z)"
   ]
  },
  {
   "cell_type": "code",
   "execution_count": 109,
   "metadata": {},
   "outputs": [
    {
     "data": {
      "image/png": "[encoded data removed]",
      "text/plain": [
       "<Figure size 432x288 with 1 Axes>"
      ]
     },
     "metadata": {
      "needs_background": "light"
     },
     "output_type": "display_data"
    }
   ],
   "source": [
    "plt.imshow(grid_array, cmap='hot', interpolation='nearest')\n",
    "plt.show()"
   ]
  },
  {
   "cell_type": "code",
   "execution_count": 122,
   "metadata": {},
   "outputs": [
    {
     "name": "stdout",
     "output_type": "stream",
     "text": [
      "Unique houses visited: 2592\n"
     ]
    }
   ],
   "source": [
    "# someone's solution from reddit\n",
    "from itertools import product\n",
    "\n",
    "X = Y = 0\n",
    "visited = [(0,0)] #(0,0) always visited\n",
    "unique_houses_visited = 1 #house at (0,0)\n",
    "\n",
    "with open('inputs/day3.txt') as f:\n",
    "    for c in f.read():\n",
    "        if c == '^':\n",
    "            Y += 1\n",
    "        elif c == '<':\n",
    "            X -= 1\n",
    "        elif c == 'v':\n",
    "            Y -= 1\n",
    "        elif c == '>':\n",
    "            X += 1\n",
    "\n",
    "        # Check if new house\n",
    "        if (X, Y) not in visited:\n",
    "            # New house\n",
    "            unique_houses_visited += 1\n",
    "            visited.append((X, Y))\n",
    "\n",
    "#answer      \n",
    "print(\"Unique houses visited:\", unique_houses_visited)"
   ]
  },
  {
   "cell_type": "code",
   "execution_count": null,
   "metadata": {},
   "outputs": [],
   "source": []
  }
 ],
 "metadata": {
  "kernelspec": {
   "display_name": "Python 3",
   "language": "python",
   "name": "python3"
  },
  "language_info": {
   "codemirror_mode": {
    "name": "ipython",
    "version": 3
   },
   "file_extension": ".py",
   "mimetype": "text/x-python",
   "name": "python",
   "nbconvert_exporter": "python",
   "pygments_lexer": "ipython3",
   "version": "3.8.3"
  }
 },
 "nbformat": 4,
 "nbformat_minor": 4
}
