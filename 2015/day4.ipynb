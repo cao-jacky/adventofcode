{
 "cells": [
  {
   "cell_type": "code",
   "execution_count": 24,
   "id": "2abab8e1",
   "metadata": {},
   "outputs": [],
   "source": [
    "import hashlib"
   ]
  },
  {
   "cell_type": "code",
   "execution_count": 25,
   "id": "9e87ad9b",
   "metadata": {},
   "outputs": [],
   "source": [
    "puzzle_input = \"yzbqklnj\"\n",
    "found_hashes = []"
   ]
  },
  {
   "cell_type": "code",
   "execution_count": 54,
   "id": "bad3da6e",
   "metadata": {},
   "outputs": [],
   "source": [
    "# code to check the hexidecimal hash\n",
    "\n",
    "def check_hash(result, key):\n",
    "    generated_hash = result.hexdigest() \n",
    "    num_zeros = 6\n",
    "    first_x = generated_hash[:num_zeros]\n",
    "\n",
    "    # first x characters must be zeroes\n",
    "    if (first_x == \"000000\"):\n",
    "        print(generated_hash)\n",
    "        if generated_hash[num_zeros].isnumeric():\n",
    "            print(f'Found correct hash {generated_hash} using secret key of {key}')\n",
    "            found_hashes.append(found_hashes)\n",
    "            return True"
   ]
  },
  {
   "cell_type": "code",
   "execution_count": 55,
   "id": "d73f6313",
   "metadata": {},
   "outputs": [
    {
     "name": "stdout",
     "output_type": "stream",
     "text": [
      "0000004b347bf4b398b3f62ace7cd301\n",
      "Found correct hash 0000004b347bf4b398b3f62ace7cd301 using secret key of yzbqklnj9962624\n",
      "Found correct hash, will continue loop\n"
     ]
    }
   ],
   "source": [
    "# code to loop through hashes\n",
    "\n",
    "i = 0 # value to keep loop alive\n",
    "j = 0 # number to append to puzzle input\n",
    "while i < 1:\n",
    "    secret_key = puzzle_input + str(j)\n",
    "    encoding = hashlib.md5(secret_key.encode())\n",
    "    \n",
    "    checking_hash = check_hash(encoding, secret_key)\n",
    "    \n",
    "    if (checking_hash == True):\n",
    "        print(\"Found correct hash, will continue loop\")\n",
    "        break\n",
    "    \n",
    "    j += 1 "
   ]
  },
  {
   "cell_type": "code",
   "execution_count": 56,
   "id": "62a1afcf",
   "metadata": {},
   "outputs": [],
   "source": [
    "# first answer is 282749, since that is the lowest number"
   ]
  },
  {
   "cell_type": "code",
   "execution_count": null,
   "id": "a4050a2c",
   "metadata": {},
   "outputs": [],
   "source": [
    "# second answer is 9962624"
   ]
  }
 ],
 "metadata": {
  "kernelspec": {
   "display_name": "Python 3 (ipykernel)",
   "language": "python",
   "name": "python3"
  },
  "language_info": {
   "codemirror_mode": {
    "name": "ipython",
    "version": 3
   },
   "file_extension": ".py",
   "mimetype": "text/x-python",
   "name": "python",
   "nbconvert_exporter": "python",
   "pygments_lexer": "ipython3",
   "version": "3.10.6"
  }
 },
 "nbformat": 4,
 "nbformat_minor": 5
}
