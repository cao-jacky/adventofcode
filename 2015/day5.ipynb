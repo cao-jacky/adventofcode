{
 "cells": [
  {
   "cell_type": "code",
   "execution_count": 3,
   "id": "24246465",
   "metadata": {},
   "outputs": [],
   "source": [
    "import re"
   ]
  },
  {
   "cell_type": "code",
   "execution_count": 19,
   "id": "4dff3dd7",
   "metadata": {},
   "outputs": [],
   "source": [
    "day5_strings = [] \n",
    "day5_inputs = \"inputs/day5.txt\"\n",
    "with open(day5_inputs) as file:\n",
    "    day5_strings = file.readlines()"
   ]
  },
  {
   "cell_type": "code",
   "execution_count": 20,
   "id": "185cf3e8",
   "metadata": {},
   "outputs": [],
   "source": [
    "# part 1\n",
    "def property1(input_string):\n",
    "    # if the string contains at least 3 vowels\n",
    "    three_vowels = [m.group() for m in re.finditer(r'[aeiou]', input_string)]    \n",
    "    if len(three_vowels) > 2:\n",
    "        return True\n",
    "    return False\n",
    "\n",
    "def property2(input_string):\n",
    "    # contains at least one letter that appears twice in a row        \n",
    "    twice_in_a_row = [m.group() for m in re.finditer(r'((\\w)\\2)+', input_string)]\n",
    "    if twice_in_a_row:\n",
    "        return True\n",
    "    return False\n",
    "\n",
    "def property3(input_string):\n",
    "    # does not contain strings \n",
    "    forbidden_strings = [\"ab\", \"cd\", \"pq\", \"xy\"]\n",
    "    \n",
    "    string_len = len(input_string)\n",
    "    for i in range(string_len):\n",
    "        string_window = input_string[i:i+2]\n",
    "\n",
    "        if string_window in forbidden_strings:\n",
    "            return False\n",
    "    return True"
   ]
  },
  {
   "cell_type": "code",
   "execution_count": 24,
   "id": "04a48400",
   "metadata": {},
   "outputs": [
    {
     "name": "stdout",
     "output_type": "stream",
     "text": [
      "255\n"
     ]
    }
   ],
   "source": [
    "nice_strings = 0\n",
    "for i in day5_strings:\n",
    "    curr_string = i.strip()\n",
    "    \n",
    "    verify_p1 = property1(curr_string)\n",
    "    verify_p2 = property2(curr_string)\n",
    "    verify_p3 = property3(curr_string)\n",
    "\n",
    "    if verify_p1 == 1 & verify_p2 == True & verify_p3 == True:\n",
    "        nice_strings += 1\n",
    "    \n",
    "print(nice_strings)"
   ]
  },
  {
   "cell_type": "code",
   "execution_count": 113,
   "id": "425ee5ef",
   "metadata": {},
   "outputs": [],
   "source": [
    "# part 2\n",
    "def property1(input_string):\n",
    "    # pair of any two letters that apears at least twice, but not overlaps\n",
    "    string_len = len(input_string)\n",
    "    if_sandwiched_string = re.findall(r\"([a-z]{2}).*\\1\", input_string)\n",
    "    if if_sandwiched_string:\n",
    "        return True\n",
    "    return False\n",
    "                \n",
    "def property2(input_string):\n",
    "    # has to contain at least one letter which repeats with exactly one letter between them\n",
    "    string_len = len(input_string)\n",
    "    for j in range(string_len-2):\n",
    "        string_window = input_string[j:j+3]  \n",
    "        if string_window[0] == string_window[2]:\n",
    "            #print(input_string, string_window)\n",
    "            return True\n",
    "    return False"
   ]
  },
  {
   "cell_type": "code",
   "execution_count": 114,
   "id": "a1840326",
   "metadata": {},
   "outputs": [
    {
     "name": "stdout",
     "output_type": "stream",
     "text": [
      "113 824 55\n"
     ]
    }
   ],
   "source": [
    "nice_strings = 0\n",
    "\n",
    "p1 = 0\n",
    "p2 = 0\n",
    "\n",
    "for i in day5_strings:\n",
    "    curr_string = i.strip()\n",
    "    \n",
    "    verify_p1 = property1(curr_string) \n",
    "    verify_p2 = property2(curr_string)\n",
    "    \n",
    "    if verify_p1 == True:\n",
    "        p1 += 1\n",
    "    if verify_p2 == True:\n",
    "        p2 += 2\n",
    "    \n",
    "    if verify_p1 == True & verify_p2 == True:\n",
    "        nice_strings += 1\n",
    "        \n",
    "print(p1, p2, nice_strings)"
   ]
  },
  {
   "cell_type": "code",
   "execution_count": null,
   "id": "bcf9d1a2",
   "metadata": {},
   "outputs": [],
   "source": []
  }
 ],
 "metadata": {
  "kernelspec": {
   "display_name": "Python 3 (ipykernel)",
   "language": "python",
   "name": "python3"
  },
  "language_info": {
   "codemirror_mode": {
    "name": "ipython",
    "version": 3
   },
   "file_extension": ".py",
   "mimetype": "text/x-python",
   "name": "python",
   "nbconvert_exporter": "python",
   "pygments_lexer": "ipython3",
   "version": "3.10.6"
  }
 },
 "nbformat": 4,
 "nbformat_minor": 5
}
