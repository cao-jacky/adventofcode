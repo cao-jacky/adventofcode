{
 "cells": [
  {
   "cell_type": "code",
   "execution_count": 1,
   "metadata": {},
   "outputs": [],
   "source": [
    "import numpy as np"
   ]
  },
  {
   "cell_type": "code",
   "execution_count": 3,
   "metadata": {},
   "outputs": [],
   "source": [
    "day1_instructions = [] \n",
    "day1_inputs = \"inputs/day1.txt\"\n",
    "with open(day1_inputs) as file:\n",
    "    day1_instructions = file.readlines()"
   ]
  },
  {
   "cell_type": "code",
   "execution_count": 19,
   "metadata": {},
   "outputs": [
    {
     "name": "stdout",
     "output_type": "stream",
     "text": [
      "280\n"
     ]
    }
   ],
   "source": [
    "# part 1\n",
    "\n",
    "floor = 0 # begin on floor 0 \n",
    "\n",
    "d1i_split = list(day1_instructions[0])\n",
    "# print(d1i_split)\n",
    "\n",
    "dict_instr = {\n",
    "    \"(\": 1,\n",
    "    \")\": -1\n",
    "}\n",
    "\n",
    "for i in range(len(d1i_split)):\n",
    "    curr_instruction = d1i_split[i]\n",
    "    ci_value = dict_instr[str(curr_instruction)]\n",
    "    floor = floor + ci_value\n",
    "#     print(curr_instruction, ci_value)\n",
    "\n",
    "print(floor)"
   ]
  },
  {
   "cell_type": "code",
   "execution_count": 23,
   "metadata": {},
   "outputs": [
    {
     "name": "stdout",
     "output_type": "stream",
     "text": [
      "0\n",
      "0\n",
      "0\n",
      "0\n",
      "-1 1796\n",
      "-1 6100\n",
      "0\n",
      "-1 6102\n",
      "-1 6104\n",
      "0\n",
      "-1 6106\n",
      "-1 6108\n",
      "0\n",
      "-1 6110\n",
      "0\n"
     ]
    }
   ],
   "source": [
    "# part 2\n",
    "\n",
    "floor = 0 # begin on floor 0 \n",
    "\n",
    "d1i_split = list(day1_instructions[0])\n",
    "# print(d1i_split)\n",
    "\n",
    "dict_instr = {\n",
    "    \"(\": 1,\n",
    "    \")\": -1\n",
    "}\n",
    "\n",
    "for i in range(len(d1i_split)):\n",
    "    curr_instruction = d1i_split[i]\n",
    "    ci_value = dict_instr[str(curr_instruction)]\n",
    "    \n",
    "    if floor == 0:\n",
    "        print(floor)\n",
    "    \n",
    "    floor = floor + ci_value\n",
    "    \n",
    "#     print(curr_instruction, ci_value)\n",
    "\n",
    "    if floor == -1:\n",
    "        print(floor, i)\n",
    "        \n",
    "# answer is 1797 because of the no zero indexing! "
   ]
  },
  {
   "cell_type": "code",
   "execution_count": null,
   "metadata": {},
   "outputs": [],
   "source": []
  }
 ],
 "metadata": {
  "kernelspec": {
   "display_name": "Python 3",
   "language": "python",
   "name": "python3"
  },
  "language_info": {
   "codemirror_mode": {
    "name": "ipython",
    "version": 3
   },
   "file_extension": ".py",
   "mimetype": "text/x-python",
   "name": "python",
   "nbconvert_exporter": "python",
   "pygments_lexer": "ipython3",
   "version": "3.8.3"
  }
 },
 "nbformat": 4,
 "nbformat_minor": 4
}
