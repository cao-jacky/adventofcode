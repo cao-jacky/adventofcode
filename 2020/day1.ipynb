{
 "cells": [
  {
   "cell_type": "code",
   "execution_count": 1,
   "metadata": {},
   "outputs": [],
   "source": [
    "import numpy as np"
   ]
  },
  {
   "cell_type": "code",
   "execution_count": 13,
   "metadata": {},
   "outputs": [],
   "source": [
    "# read inputs and create list/array\n",
    "day1_inputs_list = []\n",
    "day1_inputs = \"inputs/day1.txt\"\n",
    "with open(day1_inputs) as day1file:\n",
    "    day1_inputs_list = day1file.readlines()\n",
    "    \n",
    "day1_inputs_list = [int(item.strip()) for item in day1_inputs_list]\n",
    "day1_inputs_array = np.asarray(day1_inputs_list)"
   ]
  },
  {
   "cell_type": "code",
   "execution_count": 18,
   "metadata": {},
   "outputs": [
    {
     "name": "stdout",
     "output_type": "stream",
     "text": [
      "201 1819 365619\n",
      "1819 201 365619\n"
     ]
    }
   ],
   "source": [
    "# part1\n",
    "\n",
    "# cycle through the list, shifting one against the other to find the ones which add to 2020\n",
    "\n",
    "# my probably extremely inefficient way of doing this\n",
    "for i in range(len(day1_inputs_array)):\n",
    "    curr_no = day1_inputs_array[i]\n",
    "    \n",
    "    for j in range(len(day1_inputs_array)):\n",
    "        next_no = day1_inputs_array[j]\n",
    "    \n",
    "        total = curr_no + next_no\n",
    "        if total == 2020:\n",
    "            print(curr_no, next_no, curr_no*next_no)"
   ]
  },
  {
   "cell_type": "code",
   "execution_count": 19,
   "metadata": {},
   "outputs": [
    {
     "name": "stdout",
     "output_type": "stream",
     "text": [
      "348 701 971 236873508\n",
      "348 971 701 236873508\n",
      "701 348 971 236873508\n",
      "701 971 348 236873508\n",
      "971 348 701 236873508\n",
      "971 701 348 236873508\n"
     ]
    }
   ],
   "source": [
    "# part2\n",
    "\n",
    "# my probably extremely inefficient way of doing this\n",
    "for i in range(len(day1_inputs_array)):\n",
    "    curr_no = day1_inputs_array[i]\n",
    "    \n",
    "    for j in range(len(day1_inputs_array)):\n",
    "        next_no = day1_inputs_array[j]\n",
    "    \n",
    "        for k in range(len(day1_inputs_array)):\n",
    "            next_next_no = day1_inputs_array[k]\n",
    "            total = curr_no + next_no + next_next_no\n",
    "            if total == 2020:\n",
    "                print(curr_no, next_no, next_next_no, curr_no*next_no*next_next_no)"
   ]
  },
  {
   "cell_type": "code",
   "execution_count": null,
   "metadata": {},
   "outputs": [],
   "source": []
  }
 ],
 "metadata": {
  "kernelspec": {
   "display_name": "Python 3",
   "language": "python",
   "name": "python3"
  },
  "language_info": {
   "codemirror_mode": {
    "name": "ipython",
    "version": 3
   },
   "file_extension": ".py",
   "mimetype": "text/x-python",
   "name": "python",
   "nbconvert_exporter": "python",
   "pygments_lexer": "ipython3",
   "version": "3.8.3"
  }
 },
 "nbformat": 4,
 "nbformat_minor": 4
}
