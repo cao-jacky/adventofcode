{
 "cells": [
  {
   "cell_type": "markdown",
   "metadata": {
    "colab_type": "text",
    "id": "view-in-github"
   },
   "source": [
    "<a href=\"https://colab.research.google.com/github/cao-jacky/adventofcode/blob/main/2020/day5.ipynb\" target=\"_parent\"><img src=\"https://colab.research.google.com/assets/colab-badge.svg\" alt=\"Open In Colab\"/></a>"
   ]
  },
  {
   "cell_type": "code",
   "execution_count": 126,
   "metadata": {
    "id": "JqSGDqfBGCz-"
   },
   "outputs": [],
   "source": [
    "import numpy as np"
   ]
  },
  {
   "cell_type": "code",
   "execution_count": 157,
   "metadata": {},
   "outputs": [],
   "source": [
    "day5_file = [] \n",
    "input_file = \"inputs/day5.txt\"\n",
    "with open(input_file) as file:\n",
    "    day5_file = file.readlines()"
   ]
  },
  {
   "cell_type": "code",
   "execution_count": 177,
   "metadata": {},
   "outputs": [
    {
     "name": "stdout",
     "output_type": "stream",
     "text": [
      "930.0\n"
     ]
    }
   ],
   "source": [
    "# part 1\n",
    "seat_ids = []\n",
    "seat_coords = []\n",
    "for line in day5_file:\n",
    "    line_split = list(line.strip())\n",
    "    row_range = [0,127]\n",
    "    column_range = [0,7]\n",
    "    for char in line_split:\n",
    "        #curr_row_no /= 2\n",
    "        \n",
    "        row_limit_difference = row_range[1] - row_range[0]\n",
    "        row_limit_half = np.ceil(row_limit_difference / 2)\n",
    "        if char == \"F\":\n",
    "            # lower half, take one away from curr_row_no\n",
    "            row_limit_half -= 1\n",
    "            row_range = [row_range[0], row_range[0]+row_limit_half]\n",
    "        if char == \"B\":\n",
    "            row_range = [row_range[0]+row_limit_half, row_range[1]]\n",
    "            \n",
    "        column_limit_difference = column_range[1] - column_range[0]\n",
    "        column_limit_half = np.ceil(column_limit_difference / 2)\n",
    "        if char == \"L\":\n",
    "            # lower half, take one away from curr_row_no\n",
    "            column_limit_half -= 1\n",
    "            column_range = [column_range[0], column_range[0]+column_limit_half]\n",
    "        if char == \"R\":\n",
    "            column_range = [column_range[0]+column_limit_half, column_range[1]]\n",
    "            \n",
    "    seat_id = (row_range[0]*8)+column_range[0]\n",
    "    seat_ids.append(seat_id)\n",
    "    \n",
    "    seat_coords.append([int(row_range[0]), int(column_range[0])])\n",
    "    \n",
    "print(max(seat_ids))\n"
   ]
  },
  {
   "cell_type": "code",
   "execution_count": 197,
   "metadata": {},
   "outputs": [
    {
     "name": "stdout",
     "output_type": "stream",
     "text": [
      "515\n"
     ]
    }
   ],
   "source": [
    "# part 2\n",
    "# what is the ID of my seat? \n",
    "\n",
    "# there are 128 rows and 8 columns \n",
    "seat_map = np.zeros([128,8])\n",
    "\n",
    "for seat in seat_coords:\n",
    "    seat_map[seat[0],seat[1]] = 1\n",
    "empty_seats = np.where(seat_map==0)\n",
    "\n",
    "# working out the IDs of each of these missing seats \n",
    "count = 0\n",
    "for empty_seat_row in empty_seats[0]:\n",
    "    empty_seat_column = empty_seats[1][count]\n",
    "    empty_seat_id = (empty_seat_row*8) + empty_seat_column\n",
    "    \n",
    "    seat_id_below = empty_seat_id - 1\n",
    "    seat_id_above = empty_seat_id + 1\n",
    "    \n",
    "    if seat_id_below in seat_ids and seat_id_above in seat_ids:\n",
    "        print(empty_seat_id)\n",
    "    count += 1"
   ]
  },
  {
   "cell_type": "code",
   "execution_count": null,
   "metadata": {},
   "outputs": [],
   "source": [
    "# from eye, the answer is 515, but I will finish implementing above "
   ]
  }
 ],
 "metadata": {
  "colab": {
   "authorship_tag": "ABX9TyPlyBiCcFUb1iVzCR0Gz1HV",
   "include_colab_link": true,
   "name": "day5.ipynb",
   "provenance": []
  },
  "kernelspec": {
   "display_name": "Python 3",
   "language": "python",
   "name": "python3"
  },
  "language_info": {
   "codemirror_mode": {
    "name": "ipython",
    "version": 3
   },
   "file_extension": ".py",
   "mimetype": "text/x-python",
   "name": "python",
   "nbconvert_exporter": "python",
   "pygments_lexer": "ipython3",
   "version": "3.7.7"
  },
  "latex_envs": {
   "LaTeX_envs_menu_present": true,
   "autoclose": true,
   "autocomplete": false,
   "bibliofile": "biblio.bib",
   "cite_by": "apalike",
   "current_citInitial": 1,
   "eqLabelWithNumbers": true,
   "eqNumInitial": 1,
   "hotkeys": {
    "equation": "Ctrl-E",
    "itemize": "Ctrl-I"
   },
   "labels_anchors": false,
   "latex_user_defs": false,
   "report_style_numbering": false,
   "user_envs_cfg": false
  },
  "varInspector": {
   "cols": {
    "lenName": 16,
    "lenType": 16,
    "lenVar": 40
   },
   "kernels_config": {
    "python": {
     "delete_cmd_postfix": "",
     "delete_cmd_prefix": "del ",
     "library": "var_list.py",
     "varRefreshCmd": "print(var_dic_list())"
    },
    "r": {
     "delete_cmd_postfix": ") ",
     "delete_cmd_prefix": "rm(",
     "library": "var_list.r",
     "varRefreshCmd": "cat(var_dic_list()) "
    }
   },
   "types_to_exclude": [
    "module",
    "function",
    "builtin_function_or_method",
    "instance",
    "_Feature"
   ],
   "window_display": false
  }
 },
 "nbformat": 4,
 "nbformat_minor": 1
}
